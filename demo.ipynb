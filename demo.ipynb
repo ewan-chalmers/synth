{
 "cells": [
  {
   "cell_type": "code",
   "execution_count": 1,
   "metadata": {},
   "outputs": [
    {
     "output_type": "stream",
     "name": "stdout",
     "text": [
      "Collecting pyo\n",
      "  Using cached pyo-1.0.3.tar.gz (5.2 MB)\n",
      "    ERROR: Command errored out with exit status 1:\n",
      "     command: 'c:\\python\\python37-32\\python.exe' -c 'import sys, setuptools, tokenize; sys.argv[0] = '\"'\"'C:\\\\Users\\\\Ewan\\\\AppData\\\\Local\\\\Temp\\\\pip-install-p7p616_3\\\\pyo\\\\setup.py'\"'\"'; __file__='\"'\"'C:\\\\Users\\\\Ewan\\\\AppData\\\\Local\\\\Temp\\\\pip-install-p7p616_3\\\\pyo\\\\setup.py'\"'\"';f=getattr(tokenize, '\"'\"'open'\"'\"', open)(__file__);code=f.read().replace('\"'\"'\\r\\n'\"'\"', '\"'\"'\\n'\"'\"');f.close();exec(compile(code, __file__, '\"'\"'exec'\"'\"'))' egg_info --egg-base 'C:\\Users\\Ewan\\AppData\\Local\\Temp\\pip-pip-egg-info-6cjgixse'\n",
      "         cwd: C:\\Users\\Ewan\\AppData\\Local\\Temp\\pip-install-p7p616_3\\pyo\\\n",
      "    Complete output (5 lines):\n",
      "    Traceback (most recent call last):\n",
      "      File \"<string>\", line 1, in <module>\n",
      "      File \"C:\\Users\\Ewan\\AppData\\Local\\Temp\\pip-install-p7p616_3\\pyo\\setup.py\", line 209, in <module>\n",
      "        [os.path.join(data_files_common_path, f) for f in os.listdir(data_files_common_path) if f.endswith(\".dll\")]),\n",
      "    FileNotFoundError: [WinError 3] The system cannot find the path specified: 'win32dlls\\\\win32_pyo_data_files_common'\n",
      "    ----------------------------------------\n",
      "ERROR: Command errored out with exit status 1: python setup.py egg_info Check the logs for full command output.\n"
     ]
    }
   ],
   "source": [
    "! pip install pyo"
   ]
  },
  {
   "cell_type": "code",
   "execution_count": null,
   "metadata": {},
   "outputs": [],
   "source": [
    "from pyo import *"
   ]
  },
  {
   "cell_type": "code",
   "execution_count": null,
   "metadata": {},
   "outputs": [],
   "source": [
    "s = Server().boot()\n",
    "s.start()"
   ]
  },
  {
   "cell_type": "code",
   "execution_count": null,
   "metadata": {},
   "outputs": [],
   "source": [
    "### signal shape (in this case, a square wave)\n",
    "wav = SquareTable()\n",
    "\n",
    "### beat timing\n",
    "beat = Metro(time=0.125, poly=5).play()\n",
    "# beat = Beat(time=0.125, taps=64, poly=5).play()\n",
    "\n",
    "### amplitude envelope shape\n",
    "envelope = CosTable([(0,0), (100,1), (500,.3), (8191,0)])\n",
    "# envelope = CurveTable([(0,0),(2048,.5),(4096,.2),(6144,.5),(8192,0)], 0, 20)\n",
    "\n",
    "### amplitude\n",
    "amplitude = TrigEnv(beat, table=envelope, dur=0.25, mul=0.6)\n",
    "\n",
    "### random notes\n",
    "pitch = TrigXnoiseMidi(beat, dist=3, scale=0, mrange=(96, 48))"
   ]
  }
 ],
 "metadata": {
  "kernelspec": {
   "name": "Python 3.7.1 32-bit",
   "display_name": "Python 3.7.1 32-bit",
   "metadata": {
    "interpreter": {
     "hash": "fc2a6dd566ce39ecd3e34957b0772c753e546ec5f9c4cd2323326ac6060c91db"
    }
   }
  },
  "language_info": {
   "codemirror_mode": {
    "name": "ipython",
    "version": 3
   },
   "file_extension": ".py",
   "mimetype": "text/x-python",
   "name": "python",
   "nbconvert_exporter": "python",
   "pygments_lexer": "ipython3",
   "version": "3.7.1-final"
  }
 },
 "nbformat": 4,
 "nbformat_minor": 4
}